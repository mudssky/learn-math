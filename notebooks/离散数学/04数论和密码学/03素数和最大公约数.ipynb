{
 "cells": [
  {
   "attachments": {},
   "cell_type": "markdown",
   "metadata": {},
   "source": [
    "## 试除法"
   ]
  },
  {
   "cell_type": "code",
   "execution_count": 23,
   "metadata": {
    "tags": [
     "func"
    ]
   },
   "outputs": [],
   "source": [
    "# 使用试除法判断素数\n",
    "def is_prime(n):\n",
    "    \"\"\"\n",
    "    判断一个数是否为素数\n",
    "    \"\"\"\n",
    "    if n < 2:  # 小于2的数都不是素数\n",
    "        return False\n",
    "    for i in range(2, int(n**0.5)+1):  # 判断 n 是否能被 2 到 sqrt(n) 之间的数整除\n",
    "        if n % i == 0:\n",
    "            return False\n",
    "    return True\n"
   ]
  },
  {
   "cell_type": "code",
   "execution_count": 24,
   "metadata": {},
   "outputs": [
    {
     "data": {
      "text/plain": [
       "False"
      ]
     },
     "execution_count": 24,
     "metadata": {},
     "output_type": "execute_result"
    }
   ],
   "source": [
    "is_prime(999)"
   ]
  },
  {
   "cell_type": "code",
   "execution_count": 25,
   "metadata": {},
   "outputs": [
    {
     "name": "stdout",
     "output_type": "stream",
     "text": [
      "420 µs ± 3.97 µs per loop (mean ± std. dev. of 7 runs, 1,000 loops each)\n"
     ]
    }
   ],
   "source": [
    "%%timeit\n",
    "# for i in range (1,10000):\n",
    "# \tif is_prime(i):\n",
    "# \t\tprint(i)\n",
    "# 下面用列表生成式求出1-100的素数\n",
    "[i for i in range(1,1000) if is_prime(i)]\n"
   ]
  },
  {
   "attachments": {},
   "cell_type": "markdown",
   "metadata": {},
   "source": [
    "上面的算法还可以优化,因为偶数可以被2整数,不是素数  \n",
    "所以我们先判断是不是偶数,如果是偶数,就不是素数  \n",
    "另外在2-根号n的范围内的试除也只用奇数进行,因为偶数和任意数乘积为偶数,之前已经排除了偶数的可能性了,  \n",
    "所以这里只要判断奇数"
   ]
  },
  {
   "cell_type": "code",
   "execution_count": 26,
   "metadata": {},
   "outputs": [],
   "source": [
    "def is_prime2(n):\n",
    "    \"\"\"\n",
    "    判断一个数是否为素数,先排除偶数\n",
    "    \"\"\"\n",
    "    # 小于2的数都不是素数\n",
    "    if n < 2:\n",
    "        return False\n",
    "    # 2是素数\n",
    "    if n == 2:\n",
    "        return True\n",
    "    # 偶数都不是素数\n",
    "    if n % 2 == 0:\n",
    "        return False\n",
    "    for i in range(3, int(n**0.5)+1, 2):\n",
    "        if n % i == 0:\n",
    "            return False\n",
    "    return True"
   ]
  },
  {
   "cell_type": "code",
   "execution_count": 27,
   "metadata": {},
   "outputs": [
    {
     "name": "stdout",
     "output_type": "stream",
     "text": [
      "277 µs ± 10.8 µs per loop (mean ± std. dev. of 7 runs, 1,000 loops each)\n"
     ]
    }
   ],
   "source": [
    "%%timeit\n",
    "[i for i in range(1,1000) if is_prime2(i)]"
   ]
  },
  {
   "attachments": {},
   "cell_type": "markdown",
   "metadata": {},
   "source": [
    "## Miller-Rabin 素性测试算法\n",
    "目前已知的最快速的素数判断算法是 Miller-Rabin 算法，它的时间复杂度为 $O(k \\log^3 n)$，其中 $k$ 是算法中的参数，通常需要选取几十到几百次。\n",
    "\n",
    "Miller-Rabin素性测试算法是一种常用的素数判定算法，其基本思想是利用费马小定理的一个变形来判断一个数是否为素数。它的优点是能够高效地判定大数是否为素数。\n",
    "\n",
    "下面是Miller-Rabin素性测试算法的步骤：\n",
    "\n",
    "1. 将待判定的数 $n-1$ 分解成 $d \\cdot 2^s$ 的形式，其中 $d$ 是奇数，$s$ 是正整数。\n",
    "2. 随机选择一个小于 $n$ 的整数 $a$，计算 $a^d \\bmod n$。如果 $a^d \\bmod n = 1$ 或者 $a^d \\bmod n = n-1$，则 $n$ 可能是一个素数，进入下一个循环。\n",
    "3. 如果 $a^d \\bmod n \\neq 1$ 且 $a^d \\bmod n \\neq n-1$，则重复计算 $a^{2^r \\cdot d} \\bmod n$，其中 $r=1,2,\\dots,s-1$。如果在这些计算中存在 $a^{2^r \\cdot d} \\bmod n = n-1$，则 $n$ 可能是一个素数，进入下一个循环。\n",
    "4. 如果在步骤3中没有找到 $a^{2^r \\cdot d} \\bmod n = n-1$，则 $n$ 肯定不是素数。\n",
    "5. 重复步骤2-4 $k$ 次，其中 $k$ 是一个控制算法正确性的参数。如果在所有循环中都没有找到 $n$ 是素数的证据，则 $n$ 肯定是合数。\n",
    "\n",
    "需要注意的是，由于Miller-Rabin素性测试算法采用了随机数，因此算法的正确性是有一定概率的，但是随着$k$的增大，算法正确性也会逐渐提高。因此，在实际应用中，通常会选择合适的$k$值来保证算法的正确性。"
   ]
  },
  {
   "cell_type": "code",
   "execution_count": 28,
   "metadata": {
    "tags": [
     "func"
    ]
   },
   "outputs": [],
   "source": [
    "import random\n",
    "\n",
    "def is_prime3(n, k=10):\n",
    "    \"\"\"\n",
    "    判断一个数是否为素数，使用 Miller-Rabin 素性测试算法\n",
    "    \"\"\"\n",
    "    if n < 2:\n",
    "        return False\n",
    "    if n == 2 or n == 3:\n",
    "        return True\n",
    "    if n % 2 == 0:\n",
    "        return False\n",
    "\n",
    "    # 将 n - 1 分解为 d * 2^s 的形式，其中 d 是奇数\n",
    "    d, s = n - 1, 0\n",
    "    while d % 2 == 0:\n",
    "        d //= 2\n",
    "        s += 1\n",
    "\n",
    "    # 进行 k 次测试\n",
    "    for i in range(k):\n",
    "        a = random.randint(2, n - 2)\n",
    "        x = pow(a, d, n)\n",
    "        if x == 1 or x == n - 1:\n",
    "            continue\n",
    "        for j in range(s - 1):\n",
    "            x = pow(x, 2, n)\n",
    "            if x == n - 1:\n",
    "                break\n",
    "        else:\n",
    "            return False\n",
    "\n",
    "    return True\n"
   ]
  },
  {
   "cell_type": "code",
   "execution_count": 29,
   "metadata": {},
   "outputs": [
    {
     "name": "stdout",
     "output_type": "stream",
     "text": [
      "3.32 ms ± 67.1 µs per loop (mean ± std. dev. of 7 runs, 100 loops each)\n"
     ]
    }
   ],
   "source": [
    "%%timeit\n",
    "[i for i in range(1,1000) if is_prime3(i)]"
   ]
  },
  {
   "cell_type": "code",
   "execution_count": 30,
   "metadata": {
    "tags": [
     "func"
    ]
   },
   "outputs": [],
   "source": [
    "from tqdm import tqdm\n",
    "def prime_list(n:int):\n",
    "    '''\n",
    "    用Miller-Rabin算法判断1-n之前的素数,求素数列表\n",
    "    '''\n",
    "    prime_list=[2,3]\n",
    "    # 直接遍历奇数列表\n",
    "    for i in tqdm(range(5,n+1,2)):\n",
    "        if is_prime3(i):\n",
    "            prime_list.append(i)\n",
    "    return prime_list\n",
    "\n",
    "                \n",
    "    "
   ]
  },
  {
   "cell_type": "code",
   "execution_count": 31,
   "metadata": {},
   "outputs": [
    {
     "name": "stderr",
     "output_type": "stream",
     "text": [
      " 44%|████▎     | 21811303/49999998 [02:18<02:31, 185950.31it/s]"
     ]
    }
   ],
   "source": [
    "# 使用Miller-Rabin算法逐个判断一亿以内的素数，需要5分钟左右\n",
    "primelist=prime_list(10**8)"
   ]
  },
  {
   "cell_type": "code",
   "execution_count": null,
   "metadata": {},
   "outputs": [
    {
     "data": {
      "text/plain": [
       "5761455"
      ]
     },
     "execution_count": 14,
     "metadata": {},
     "output_type": "execute_result"
    }
   ],
   "source": [
    "len(primelist)"
   ]
  },
  {
   "cell_type": "code",
   "execution_count": null,
   "metadata": {},
   "outputs": [
    {
     "name": "stderr",
     "output_type": "stream",
     "text": [
      "100%|██████████| 5761455/5761455 [09:56<00:00, 9653.34it/s] \n"
     ]
    }
   ],
   "source": [
    "# 对上面Miller-Rabin算法 计算出来的素数列表验算一遍\n",
    "# 使用试除法，需要10分钟左右\n",
    "filteredPrime=[]\n",
    "for i in tqdm(primelist):\n",
    "    if is_prime2(i):\n",
    "        filteredPrime.append(i)\n",
    "\n",
    "    "
   ]
  },
  {
   "cell_type": "code",
   "execution_count": null,
   "metadata": {},
   "outputs": [
    {
     "data": {
      "text/plain": [
       "5761455"
      ]
     },
     "execution_count": 16,
     "metadata": {},
     "output_type": "execute_result"
    }
   ],
   "source": [
    "len(filteredPrime)"
   ]
  },
  {
   "attachments": {},
   "cell_type": "markdown",
   "metadata": {},
   "source": [
    "## 埃拉托色尼筛选法\n",
    "\n",
    "埃拉托色尼筛选法（Sieve of Eratosthenes）是一种求素数的算法。它的基本思想是：从小到大枚举所有可能的质数，并将它们的倍数标记为合数，这样，最终没有被标记的数就是素数。\n",
    "\n",
    "具体做法是：\n",
    "\n",
    "1. 初始化一个长度为n（待筛数的范围）的布尔数组，将所有元素都设置为True，表示这些数字都是可能的质数。\n",
    "2. 从2开始，依次枚举每个数字，如果这个数字是质数（即在之前的筛选中没有被排除），则将它的所有倍数都标记为非质数（即将对应的数组元素设置为False）。\n",
    "3. 经过上述筛选后，所有未被标记为非质数的数字都是质数。\n",
    "\n",
    "比如，要求100以内的所有素数，可以按照以下步骤进行筛选：\n",
    "\n",
    "1. 初始化一个长度为100的布尔数组is_prime，将所有元素都设置为True。\n",
    "2. 从2开始，依次枚举每个数字，如果这个数字是质数，则将它的所有倍数都标记为非质数。\n",
    "3. 最终，is_prime中所有值为True的下标，就是100以内的所有素数。"
   ]
  },
  {
   "cell_type": "code",
   "execution_count": null,
   "metadata": {},
   "outputs": [],
   "source": [
    "def prime_bool_list(n:int):\n",
    "    '''\n",
    "    使用埃拉托色尼筛选法快速计算n以内的所有素数表\n",
    "    '''\n",
    "    # 初始化标记数组\n",
    "    is_prime = [True] * (n+1)\n",
    "    is_prime[0] = False\n",
    "    is_prime[1] = False\n",
    "    \n",
    "    # 标记合数\n",
    "    for i in range(2, int(n**0.5)+1):\n",
    "        if is_prime[i]:\n",
    "            for j in range(i*i, n+1, i):\n",
    "                is_prime[j] = False\n",
    "    return is_prime"
   ]
  },
  {
   "cell_type": "code",
   "execution_count": null,
   "metadata": {},
   "outputs": [
    {
     "name": "stdout",
     "output_type": "stream",
     "text": [
      "CPU times: total: 5.2 s\n",
      "Wall time: 5.47 s\n"
     ]
    }
   ],
   "source": [
    "%%time\n",
    "is_prime_arr=prime_bool_list(10**8)\n"
   ]
  },
  {
   "cell_type": "code",
   "execution_count": null,
   "metadata": {},
   "outputs": [],
   "source": [
    "# is_prime_arr = [True] * (10**9)\n",
    "# 10亿级别的数组，内存占用已经在10gb了,所以假设我们要计算100亿以内的素数，光布尔数组就要占用100gb内存\n",
    "# python中的布尔数组，是每一位占8字节的，所以10亿的布尔数组，占用比8gb大一些\n",
    "# 这时我们可以用第三方库bitarray\n",
    "# 实际上用numpy更好,numpy也支持bool数组\n",
    "# import numpy as np\n",
    "# arr = np.zeros(10**10, dtype=bool)\n",
    "# 这样10亿的numpy布尔数组会占用1gb的内存空间,100亿才占用10gb空间\n",
    "# 这样一般的电脑也能计算100亿级别的数据了"
   ]
  },
  {
   "cell_type": "code",
   "execution_count": null,
   "metadata": {},
   "outputs": [],
   "source": [
    "import numpy as np\n",
    "def prime_bool_list2(n:int):\n",
    "    '''\n",
    "    使用埃拉托色尼筛选法快速计算n以内()的所有素数表\n",
    "    使用numpy布尔数组优化,这样占用空间会更小\n",
    "    '''\n",
    "    is_prime = np.ones(n+1, dtype=bool) # 初始化所有数字为可能是质数\n",
    "    is_prime[0] = False\n",
    "    is_prime[1] = False\n",
    "    # 从2开始，枚举所有数字\n",
    "    for i in range(2, int(n**0.5)+1):\n",
    "        if is_prime[i]:  # 如果当前数字是质数\n",
    "            # 将当前质数的所有倍数标记为非质数\n",
    "            for j in range(i * i, n, i):\n",
    "                is_prime[j] = False\n",
    "\n",
    "    return is_prime"
   ]
  },
  {
   "cell_type": "code",
   "execution_count": null,
   "metadata": {},
   "outputs": [
    {
     "name": "stdout",
     "output_type": "stream",
     "text": [
      "CPU times: total: 11.4 s\n",
      "Wall time: 11.7 s\n"
     ]
    }
   ],
   "source": [
    "%%time\n",
    "is_prime_arr=prime_bool_list2(10**8)\n",
    "# 改成numpy布尔数组后,比python原生的列表慢一点,变成12秒,原生只要6秒"
   ]
  },
  {
   "cell_type": "code",
   "execution_count": null,
   "metadata": {},
   "outputs": [
    {
     "data": {
      "text/plain": [
       "5761456"
      ]
     },
     "execution_count": 47,
     "metadata": {},
     "output_type": "execute_result"
    }
   ],
   "source": [
    "# 计算True数量的几种方法\n",
    "# 方法1\n",
    "# np.sum(is_prime_arr)\n",
    "\n",
    "# 方法2\n",
    "np.count_nonzero(is_prime_arr)"
   ]
  },
  {
   "cell_type": "code",
   "execution_count": null,
   "metadata": {},
   "outputs": [
    {
     "data": {
      "text/plain": [
       "100000113"
      ]
     },
     "execution_count": 32,
     "metadata": {},
     "output_type": "execute_result"
    }
   ],
   "source": [
    "import sys\n",
    "sys.getsizeof(is_prime_arr)"
   ]
  },
  {
   "attachments": {},
   "cell_type": "markdown",
   "metadata": {},
   "source": [
    "## 欧拉筛法\n",
    "\n",
    "埃拉托色尼筛选法有一个问题就是会有重复标记的情况，比如2的倍数，和3的倍数有很多重复的\n",
    "\n",
    "欧拉筛优化了这一点，每个合数只标记一次。\n",
    "\n",
    "\n",
    "欧拉筛算法是一种高效的质数筛法，用于求解一定范围内的素数。它的基本思想是遍历自然数时，将每个合数只标记一次，以避免重复操作。\n",
    "\n",
    "算法步骤：\n",
    "\n",
    "1. 初始化一个长度为 n+1 的布尔数组 `is_prime`，其中 `is_prime[i]` 表示 i 是否为素数。\n",
    "2. 初始化一个空列表 `primes`，用于存储筛选出来的素数。\n",
    "3. 从 2 开始遍历到 n：\n",
    "   1. 如果 `is_prime[i]` 为 True，说明 i 是素数，则将其添加到素数列表 `primes` 中。\n",
    "   2. 对于素数列表中的每个素数 p，如果 i * p > n，则跳出循环；否则将 i * p 标记为合数。\n",
    "   3. 如果 i 能整除 p，则跳出循环（因为 i 的最小质因子一定是 p，如果还有其他质因子，它们的倍数已经在之前的循环中被标记为合数了）。\n",
    "\n",
    "欧拉筛由于每个合数只会标记一次,所以时间复杂度是O(n),空间复杂度也是O(n)"
   ]
  },
  {
   "cell_type": "code",
   "execution_count": null,
   "metadata": {},
   "outputs": [],
   "source": [
    "def euler_sieve(n):\n",
    "    '''\n",
    "    欧拉筛法,每个合数只会标记一次\n",
    "\n",
    "    '''\n",
    "    primes = []  # 存储筛选出来的素数\n",
    "    is_prime = [True] * (n+1)  # 初始假设所有数都是素数\n",
    "    for i in range(2, n+1):\n",
    "        if is_prime[i]:\n",
    "            primes.append(i)  # 把当前素数添加到素数列表中\n",
    "        for p in primes:\n",
    "            # 如果当前数是p的倍数，则将其标记为合数\n",
    "            if i * p > n:\n",
    "                break\n",
    "            is_prime[i * p] = False\n",
    "            # 如果当前数是p的最小因子(说明是素数,因为p的倍数之前的循环已经标记了 is_prime[i * p] = False)，则跳出循环\n",
    "            if i % p == 0:\n",
    "                break\n",
    "    return primes\n"
   ]
  },
  {
   "cell_type": "code",
   "execution_count": null,
   "metadata": {},
   "outputs": [
    {
     "name": "stdout",
     "output_type": "stream",
     "text": [
      "CPU times: total: 13.6 s\n",
      "Wall time: 14.6 s\n"
     ]
    }
   ],
   "source": [
    "%%time\n",
    "arr=euler_sieve(10**8)"
   ]
  },
  {
   "cell_type": "code",
   "execution_count": null,
   "metadata": {},
   "outputs": [],
   "source": [
    "import numpy as np\n",
    "def euler_sieve2(n):\n",
    "    '''\n",
    "    欧拉筛法,numpy优化空间占用,使用位运算优化速度\n",
    "    另外布尔数组只需要维护到n/2,因为只需要标记奇数,偶数必不是素数,所以不用标记了.\n",
    "    布尔数组的第n位,表示的是第2*n+1这个奇数\n",
    "    '''\n",
    "    primes = []  # 存储筛选出来的素数\n",
    "    is_prime = np.ones((n+1)//2,dtype=bool)  # 初始假设所有奇数都是素数\n",
    "    is_prime[0] = False  # 1不是素数\n",
    "    for i in range(1, (n+1)//2):\n",
    "        # 根据i计算出当前的奇数\n",
    "        odd = 2 * i + 1\n",
    "        if is_prime[i]:\n",
    "            # 当前素数添加到primes列表\n",
    "            primes.append(odd)  \n",
    "        for p in primes:\n",
    "            # 如果当前数是p的倍数，则将其标记为合数\n",
    "            if odd * p > n:\n",
    "                break\n",
    "            composite=odd*p\n",
    "            # 如果是偶数,直接跳过\n",
    "            if composite%2==0:\n",
    "                continue\n",
    "        \n",
    "            # 奇数的情况,算出奇数对应的n\n",
    "            position=(composite-1)//2\n",
    "            is_prime[position] = False\n",
    "    \n",
    "            # 如果当前数是p的最小因子(说明是素数,因为p的倍数之前的循环已经标记了 is_prime[i * p] = False)，则跳出循环\n",
    "            if odd % p == 0:\n",
    "                break\n",
    "    return primes\n"
   ]
  },
  {
   "attachments": {},
   "cell_type": "markdown",
   "metadata": {},
   "source": [
    "折腾taichi半天，我发现局限性还是很大的，如果用不到gpu cuda的计算不如用julia，julia的限制更少，会比较快  \n",
    "比如算10`**`8的质数，taichi和julia其实差不多速度。算10`**`10，因为taichi不支持这么大的数组，算不了。julia只需要100秒差不多，感觉应该是julia更快。  \n",
    "在没优化的情况下，Julia更容易写出高性能代码。因为我只用了单线程，没有用到并行计算。 \n",
    "taichi用了并行计算，也许会比较快"
   ]
  },
  {
   "cell_type": "code",
   "execution_count": null,
   "metadata": {},
   "outputs": [
    {
     "name": "stdout",
     "output_type": "stream",
     "text": [
      "CPU times: total: 12.6 s\n",
      "Wall time: 13.5 s\n"
     ]
    }
   ],
   "source": [
    "%%time\n",
    "arr=euler_sieve2(10**8)"
   ]
  },
  {
   "cell_type": "code",
   "execution_count": null,
   "metadata": {},
   "outputs": [],
   "source": [
    "import numpy as np\n",
    "from tqdm import tqdm\n",
    "\n",
    "def euler_sieve_tqdm(n):\n",
    "    '''\n",
    "    欧拉筛法,numpy优化空间占用,使用位运算优化速度\n",
    "    另外布尔数组只需要维护到n/2,因为只需要标记奇数,偶数必不是素数,所以不用标记了.\n",
    "    布尔数组的第n位,表示的是第2*n+1这个奇数\n",
    "    '''\n",
    "    primes = []  # 存储筛选出来的素数\n",
    "    is_prime = np.ones((n+1)//2,dtype=bool)  # 初始假设所有奇数都是素数\n",
    "    is_prime[0] = False  # 1不是素数\n",
    "    for i in tqdm(range(1, (n+1)//2)):\n",
    "        # 根据i计算出当前的奇数\n",
    "        odd = 2 * i + 1\n",
    "        if is_prime[i]:\n",
    "            # 当前素数添加到primes列表\n",
    "            primes.append(odd)  \n",
    "        for p in primes:\n",
    "            # 如果当前数是p的倍数，则将其标记为合数\n",
    "            if odd * p > n:\n",
    "                break\n",
    "            composite=odd*p\n",
    "            # 如果是偶数,直接跳过\n",
    "            if composite%2==0:\n",
    "                continue\n",
    "        \n",
    "            # 奇数的情况,算出奇数对应的n\n",
    "            position=(composite-1)//2\n",
    "            is_prime[position] = False\n",
    "    \n",
    "            # 如果当前数是p的最小因子(说明是素数,因为p的倍数之前的循环已经标记了 is_prime[i * p] = False)，则跳出循环\n",
    "            if odd % p == 0:\n",
    "                break\n",
    "    return primes\n"
   ]
  },
  {
   "cell_type": "code",
   "execution_count": 2,
   "metadata": {},
   "outputs": [
    {
     "name": "stdout",
     "output_type": "stream",
     "text": [
      "[Taichi] version 1.4.1, llvm 15.0.1, commit e67c674e, win, python 3.9.13\n",
      "[Taichi] Starting on arch=x64\n"
     ]
    }
   ],
   "source": [
    "# import numpy as np\n",
    "from tqdm import tqdm\n",
    "import taichi as ti\n",
    "ti.init(arch=ti.cpu,cpu_max_num_threads=1,debug=True)\n",
    "# 最大长度只有int32，属于是坑了\n",
    "n=10**8\n",
    "is_prime=ti.field(shape=(n+1)//2,dtype=bool) # 初始假设所有奇数都是素数\n",
    "is_prime.fill(True)\n",
    "primes=ti.field(dtype=ti.u64,shape=n//10)\n",
    "\n",
    "@ti.kernel\n",
    "def euler_sieve_tqdm_ti():\n",
    "    '''\n",
    "    欧拉筛法,numpy优化空间占用,使用位运算优化速度\n",
    "    另外布尔数组只需要维护到n/2,因为只需要标记奇数,偶数必不是素数,所以不用标记了.\n",
    "    布尔数组的第n位,表示的是第2*n+1这个奇数\n",
    "    '''\n",
    "    # primes=[] # 存储筛选出来的素数\n",
    "    count=0\n",
    "    # is_prime. \n",
    "    is_prime[0] = False  # 1不是素数\n",
    "    # print('ok')\n",
    "    for i in  range(1, (n+1)//2):\n",
    "        # 根据i计算出当前的奇数\n",
    "        # print('test',i)\n",
    "        odd = 2 * i + 1\n",
    "        if is_prime[i]:\n",
    "            # 当前素数添加到primes列表\n",
    "            \n",
    "            primes[count]=odd\n",
    "            count+=1\n",
    "        #     # np.append(primes,odd)\n",
    "        for index in range(count):\n",
    "            p=primes[index]\n",
    "            # 如果当前数是p的倍数，则将其标记为合数\n",
    "            if odd * p > n:\n",
    "                break\n",
    "            composite=odd*p\n",
    "            # 如果是偶数,直接跳过\n",
    "            if composite%2==0:\n",
    "                continue\n",
    "        \n",
    "            # 奇数的情况,算出奇数对应的n\n",
    "            position=(composite-1)//2\n",
    "            is_prime[position] = False\n",
    "    \n",
    "            # 如果当前数是p的最小因子(说明是素数,因为p的倍数之前的循环已经标记了 is_prime[i * p] = False)，则跳出循环\n",
    "            if odd % p == 0:\n",
    "                break\n",
    "    # return primes\n",
    "\n",
    "\n"
   ]
  },
  {
   "cell_type": "code",
   "execution_count": 3,
   "metadata": {},
   "outputs": [],
   "source": [
    "# euler_sieve_tqdm_ti()"
   ]
  },
  {
   "cell_type": "code",
   "execution_count": 8,
   "metadata": {},
   "outputs": [],
   "source": [
    "# import numpy as np\n",
    "# primes=primes.to_numpy().tolist()"
   ]
  },
  {
   "cell_type": "code",
   "execution_count": 17,
   "metadata": {},
   "outputs": [
    {
     "name": "stdout",
     "output_type": "stream",
     "text": [
      "Couldn't find program: 'false'\n"
     ]
    }
   ],
   "source": [
    "%%script false\n",
    "import h5py\n",
    "\n",
    "# 创建一个HDF5文件\n",
    "f = h5py.File('primes20yi.hdf5', 'w')\n",
    "\n",
    "# 创建一个数据集\n",
    "# data = [1, 2, 3, 4, 5]\n",
    "dset = f.create_dataset('primes', data=newP)\n",
    "\n",
    "# 设置数据集的属性\n",
    "dset.attrs['description'] = '20亿以内的素数'\n",
    "\n",
    "# 关闭HDF5文件\n",
    "f.close()\n"
   ]
  },
  {
   "cell_type": "code",
   "execution_count": 29,
   "metadata": {},
   "outputs": [
    {
     "name": "stdout",
     "output_type": "stream",
     "text": [
      "Couldn't find program: 'false'\n"
     ]
    }
   ],
   "source": [
    "%%script false\n",
    "import h5py\n",
    "import numpy as np\n",
    "f = h5py.File('primes100yi.hdf5', 'r')\n",
    "primes=np.array(f['primes'])\n",
    "f.close()"
   ]
  }
 ],
 "metadata": {
  "kernelspec": {
   "display_name": ".venv",
   "language": "python",
   "name": "python3"
  },
  "language_info": {
   "codemirror_mode": {
    "name": "ipython",
    "version": 3
   },
   "file_extension": ".py",
   "mimetype": "text/x-python",
   "name": "python",
   "nbconvert_exporter": "python",
   "pygments_lexer": "ipython3",
   "version": "3.9.13"
  },
  "orig_nbformat": 4,
  "vscode": {
   "interpreter": {
    "hash": "138e5b2ebee627ae34735539720976c388ed7526224b9cdad4247cc3547d4b17"
   }
  }
 },
 "nbformat": 4,
 "nbformat_minor": 2
}
