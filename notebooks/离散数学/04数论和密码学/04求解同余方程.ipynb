{
 "cells": [
  {
   "attachments": {},
   "cell_type": "markdown",
   "metadata": {},
   "source": [
    "##  同余方程组\n",
    " 有物不知其数\n",
    " 三三数只剩二\n",
    " 五五数之剩三\n",
    " 七七数之剩二"
   ]
  },
  {
   "cell_type": "code",
   "execution_count": 9,
   "metadata": {},
   "outputs": [
    {
     "data": {
      "text/plain": [
       "(23, 105)"
      ]
     },
     "execution_count": 9,
     "metadata": {},
     "output_type": "execute_result"
    }
   ],
   "source": [
    "# 求解一次同余方程，中国剩余定理 CRT chinese remqinder theorem\n",
    "from sympy.ntheory.modular import solve_congruence\n",
    "solve_congruence((2, 3), (3, 5), (2, 7))\n",
    "# print(x)\n",
    "# 结果的0是小于每个模数乘积的解，1是每个模数的乘积"
   ]
  }
 ],
 "metadata": {
  "kernelspec": {
   "display_name": ".venv",
   "language": "python",
   "name": "python3"
  },
  "language_info": {
   "codemirror_mode": {
    "name": "ipython",
    "version": 3
   },
   "file_extension": ".py",
   "mimetype": "text/x-python",
   "name": "python",
   "nbconvert_exporter": "python",
   "pygments_lexer": "ipython3",
   "version": "3.9.13"
  },
  "orig_nbformat": 4,
  "vscode": {
   "interpreter": {
    "hash": "138e5b2ebee627ae34735539720976c388ed7526224b9cdad4247cc3547d4b17"
   }
  }
 },
 "nbformat": 4,
 "nbformat_minor": 2
}
