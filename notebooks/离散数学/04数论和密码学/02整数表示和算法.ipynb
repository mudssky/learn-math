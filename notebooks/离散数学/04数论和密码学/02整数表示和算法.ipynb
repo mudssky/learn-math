{
 "cells": [
  {
   "attachments": {},
   "cell_type": "markdown",
   "metadata": {},
   "source": [
    "## 整数的进制表示"
   ]
  },
  {
   "cell_type": "code",
   "execution_count": 1,
   "metadata": {
    "lines_to_next_cell": 2
   },
   "outputs": [],
   "source": [
    "#传入一个十进制数，转换成2到16进制的字符\n",
    "def int_to_base(n, base=10):\n",
    "\tif base < 2 or base > 16:\n",
    "\t\traise ValueError(\"Base must be between 2 and 16\")\n",
    "\tif base == 10:\n",
    "\t\treturn n+''\n",
    "\tdigits = \"0123456789ABCDEF\"\n",
    "\tresult = \"\"\n",
    "\twhile n > 0:\n",
    "\t\t# 取最后一位数\n",
    "\t\tremainder = n % base\n",
    "\t\tresult = digits[remainder] + result\n",
    "\t\t# 去掉最后一位\n",
    "\t\tn //= base\n",
    "\treturn result or \"0\""
   ]
  },
  {
   "cell_type": "code",
   "execution_count": 4,
   "metadata": {},
   "outputs": [
    {
     "data": {
      "text/plain": [
       "'64'"
      ]
     },
     "execution_count": 4,
     "metadata": {},
     "output_type": "execute_result"
    }
   ],
   "source": [
    "int_to_base(100, 16)"
   ]
  },
  {
   "attachments": {},
   "cell_type": "markdown",
   "metadata": {},
   "source": [
    "整数的模指数运算"
   ]
  },
  {
   "cell_type": "code",
   "execution_count": 23,
   "metadata": {},
   "outputs": [],
   "source": [
    "# 先来一个计算大整数幂的函数\n",
    "# 比如我们计算 3**644,其实python内部已经实现了高效的算法.\n",
    "# 我们主要是学一下用分治法来实现这个算法，可以将幂指数分解为2进制数，然后相乘，这样运算次数就少了很多，时间复杂度是O(logn)\n",
    "def big_power(base, exponent):\n",
    "    \"\"\"\n",
    "    计算大整数的幂运算\n",
    "    \"\"\"\n",
    "    result = 1\n",
    "    while exponent > 0:\n",
    "        # 如果指数是奇数，则将底数乘入结果中\n",
    "        if exponent % 2 == 1:\n",
    "            result *= base\n",
    "        # 将底数平方，指数除以2\n",
    "        base *= base\n",
    "        exponent //= 2\n",
    "    return result\n",
    "# 2**14\n",
    "# 2**(0b1110)\n",
    "\n"
   ]
  },
  {
   "cell_type": "code",
   "execution_count": 49,
   "metadata": {},
   "outputs": [
    {
     "data": {
      "text/plain": [
       "14"
      ]
     },
     "execution_count": 49,
     "metadata": {},
     "output_type": "execute_result"
    }
   ],
   "source": [
    "0b1110"
   ]
  },
  {
   "cell_type": "code",
   "execution_count": 33,
   "metadata": {},
   "outputs": [
    {
     "name": "stdout",
     "output_type": "stream",
     "text": [
      "1.58 µs ± 25.7 ns per loop (mean ± std. dev. of 7 runs, 1,000,000 loops each)\n"
     ]
    }
   ],
   "source": [
    "%%timeit\n",
    "big_power(3,644)"
   ]
  },
  {
   "cell_type": "code",
   "execution_count": 42,
   "metadata": {},
   "outputs": [],
   "source": [
    "# 用位运算优化一下，发现优化后的速度还不如优化前的\n",
    "# 可能python本身对除2的运算就有优化,所以你改成位运算之后反而更慢\n",
    "def big_power2(base, exponent):\n",
    "    \"\"\"\n",
    "    计算大整数的幂运算\n",
    "    \"\"\"\n",
    "    if exponent <= 0:\n",
    "        return 1\n",
    "    if base == 1:\n",
    "        return 1\n",
    "    result = 1\n",
    "    while exponent > 0:\n",
    "        # 如果指数是奇数，则将底数乘入结果中\n",
    "        if exponent & 1 == 1:\n",
    "            result *= base\n",
    "        # 将底数平方，指数右移1位\n",
    "        # print(f'base={base}')\n",
    "        base *= base\n",
    "        exponent >>= 1\n",
    "    return result\n",
    "# 2**14\n",
    "# 2**(0b1110)\n",
    "\n"
   ]
  },
  {
   "cell_type": "code",
   "execution_count": 43,
   "metadata": {},
   "outputs": [
    {
     "name": "stdout",
     "output_type": "stream",
     "text": [
      "2.04 µs ± 111 ns per loop (mean ± std. dev. of 7 runs, 100,000 loops each)\n"
     ]
    }
   ],
   "source": [
    "%%timeit\n",
    "big_power2(3,644)"
   ]
  },
  {
   "cell_type": "code",
   "execution_count": 44,
   "metadata": {},
   "outputs": [
    {
     "name": "stdout",
     "output_type": "stream",
     "text": [
      "582 ns ± 8.58 ns per loop (mean ± std. dev. of 7 runs, 1,000,000 loops each)\n"
     ]
    }
   ],
   "source": [
    "%%timeit\n",
    "3**644\n",
    "# 我们实现的这个方法，比python内置的慢一截,可见内置算法的优化更好"
   ]
  },
  {
   "cell_type": "code",
   "execution_count": 45,
   "metadata": {},
   "outputs": [
    {
     "name": "stdout",
     "output_type": "stream",
     "text": [
      "727 ns ± 7.64 ns per loop (mean ± std. dev. of 7 runs, 1,000,000 loops each)\n"
     ]
    }
   ],
   "source": [
    "%%timeit\n",
    "3**644%645"
   ]
  },
  {
   "cell_type": "code",
   "execution_count": 59,
   "metadata": {},
   "outputs": [],
   "source": [
    "# 下面在那个基础上写一个模指数运算的方法\n",
    "def mod_power(base, exponent, modulus):\n",
    "    \"\"\"\n",
    "    计算模指数运算\n",
    "    \"\"\"\n",
    "    result = 1\n",
    "    while exponent > 0:\n",
    "        # 如果指数是奇数，则将底数乘入结果中\n",
    "        if exponent % 2 == 1:\n",
    "            result = (result * base) % modulus\n",
    "        # 将底数平方，指数除以2, 这里是否进行模运算,对结果没有影响,但是(减少运算位数)提升了性能\n",
    "        base = (base * base) % modulus\n",
    "        exponent //= 2\n",
    "    return result\n",
    "\n"
   ]
  },
  {
   "cell_type": "code",
   "execution_count": 60,
   "metadata": {},
   "outputs": [
    {
     "name": "stdout",
     "output_type": "stream",
     "text": [
      "775 ns ± 17.3 ns per loop (mean ± std. dev. of 7 runs, 1,000,000 loops each)\n"
     ]
    }
   ],
   "source": [
    "%%timeit\n",
    "mod_power(3,644,645)\n",
    "# 模指数运算的效率和原生的接近,说明用的算法比较类似"
   ]
  }
 ],
 "metadata": {
  "jupytext": {
   "formats": "ipynb,py:percent"
  },
  "kernelspec": {
   "display_name": ".venv",
   "language": "python",
   "name": "python3"
  },
  "language_info": {
   "codemirror_mode": {
    "name": "ipython",
    "version": 3
   },
   "file_extension": ".py",
   "mimetype": "text/x-python",
   "name": "python",
   "nbconvert_exporter": "python",
   "pygments_lexer": "ipython3",
   "version": "3.9.13"
  },
  "vscode": {
   "interpreter": {
    "hash": "138e5b2ebee627ae34735539720976c388ed7526224b9cdad4247cc3547d4b17"
   }
  }
 },
 "nbformat": 4,
 "nbformat_minor": 2
}
