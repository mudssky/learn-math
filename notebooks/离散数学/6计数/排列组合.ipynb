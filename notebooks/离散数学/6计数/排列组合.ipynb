{
 "cells": [
  {
   "cell_type": "code",
   "execution_count": 6,
   "metadata": {},
   "outputs": [
    {
     "name": "stdout",
     "output_type": "stream",
     "text": [
      "排列数为: 60\n"
     ]
    }
   ],
   "source": [
    "# 计算排列数，注意factorial计算的结果是浮点数，所以用整出符号就能转为整数\n",
    "import math\n",
    "\n",
    "n = 5  # 从 5 个元素中取出 m 个元素进行排列\n",
    "m = 3\n",
    "\n",
    "# 计算排列数\n",
    "permutations = math.factorial(n) // math.factorial(n-m)\n",
    "\n",
    "print(\"排列数为:\", permutations)\n"
   ]
  },
  {
   "cell_type": "code",
   "execution_count": 4,
   "metadata": {},
   "outputs": [
    {
     "name": "stdout",
     "output_type": "stream",
     "text": [
      "scipy 库计算排列数为: 60\n"
     ]
    }
   ],
   "source": [
    "from scipy.special import perm\n",
    "\n",
    "n = 5\n",
    "m = 3\n",
    "permutations = perm(n, m, exact=True)\n",
    "print(\"scipy 库计算排列数为:\", permutations)\n",
    "# 使\n"
   ]
  },
  {
   "cell_type": "code",
   "execution_count": 7,
   "metadata": {},
   "outputs": [
    {
     "name": "stdout",
     "output_type": "stream",
     "text": [
      "math 库计算组合数为: 10\n",
      "scipy 库计算组合数为: 10\n"
     ]
    }
   ],
   "source": [
    "# 计算组合数\n",
    "import math\n",
    "from scipy.special import comb\n",
    "\n",
    "# 使用 math 库计算排列数\n",
    "n = 5\n",
    "m = 3\n",
    "permutations = math.factorial(n) //(math.factorial(m)* math.factorial(n-m))\n",
    "print(\"math 库计算组合数为:\", permutations)\n",
    "combinations= comb(n, m, exact=True)\n",
    "print(\"scipy 库计算组合数为:\",combinations)\n"
   ]
  },
  {
   "cell_type": "code",
   "execution_count": 8,
   "metadata": {},
   "outputs": [
    {
     "name": "stdout",
     "output_type": "stream",
     "text": [
      "(1, 2, 3)\n",
      "(1, 3, 2)\n",
      "(2, 1, 3)\n",
      "(2, 3, 1)\n",
      "(3, 1, 2)\n",
      "(3, 2, 1)\n"
     ]
    }
   ],
   "source": [
    "# python 生成排列\n",
    "import itertools\n",
    "\n",
    "# 生成列表 [1, 2, 3] 的所有排列\n",
    "lst = [1, 2, 3]\n",
    "perms = list(itertools.permutations(lst))\n",
    "\n",
    "# 输出排列结果\n",
    "for perm in perms:\n",
    "    print(perm)\n"
   ]
  },
  {
   "cell_type": "code",
   "execution_count": 10,
   "metadata": {},
   "outputs": [
    {
     "name": "stdout",
     "output_type": "stream",
     "text": [
      "(1, 2)\n",
      "(1, 3)\n",
      "(2, 3)\n"
     ]
    }
   ],
   "source": [
    "# python 生成组合\n",
    "import itertools\n",
    "\n",
    "# 生成列表 [1, 2, 3] 的所有排列\n",
    "lst = [1, 2, 3]\n",
    "perms = list(itertools.combinations(lst,2))\n",
    "\n",
    "# 输出排列结果\n",
    "for perm in perms:\n",
    "    print(perm)\n"
   ]
  },
  {
   "cell_type": "code",
   "execution_count": 15,
   "metadata": {},
   "outputs": [
    {
     "name": "stdout",
     "output_type": "stream",
     "text": [
      "[1, 2, 3]\n",
      "[1, 3, 2]\n",
      "[2, 1, 3]\n",
      "[2, 3, 1]\n",
      "[3, 1, 2]\n",
      "[3, 2, 1]\n"
     ]
    }
   ],
   "source": [
    "# 不使用标准库，也可以用递归实现\n",
    "def permutations(lst, m):\n",
    "    \"\"\"\n",
    "    计算列表 lst 的所有长度为 m 的排列\n",
    "    \"\"\"\n",
    "    n = len(lst)\n",
    "    if m == 0:  # 如果排列长度为 0，返回空列表,退出条件\n",
    "        return [[]]\n",
    "    if n < m:   # 如果列表长度小于排列长度，返回空列表，这里是参数错误返回空列表\n",
    "        return []\n",
    "    result = []\n",
    "    for i in range(n):\n",
    "        # 生成 lst 中剩余元素的长度为 m-1 的排列\n",
    "        rest_perms = permutations(lst[:i] + lst[i+1:], m-1)\n",
    "        for perm in rest_perms:\n",
    "            # 将新的排列与 lst[i] 组合成长度为 m 的排列\n",
    "            result.append([lst[i]] + perm)\n",
    "    return result\n",
    "lst = [1, 2, 3]\n",
    "perms = permutations(lst, 3)\n",
    "\n",
    "# 输出排列结果\n",
    "for perm in perms:\n",
    "    print(perm)"
   ]
  },
  {
   "cell_type": "code",
   "execution_count": 16,
   "metadata": {},
   "outputs": [
    {
     "name": "stdout",
     "output_type": "stream",
     "text": [
      "[1, 2]\n",
      "[1, 3]\n",
      "[2, 3]\n"
     ]
    }
   ],
   "source": [
    "def combinations(lst, m):\n",
    "    \"\"\"\n",
    "    计算列表 lst 的所有长度为 m 的组合\n",
    "    \"\"\"\n",
    "    n = len(lst)\n",
    "    if m == 0:  # 如果组合长度为 0，返回空列表\n",
    "        return [[]]\n",
    "    if n < m:   # 如果列表长度小于组合长度，返回空列表\n",
    "        return []\n",
    "    result = []\n",
    "    for i in range(n):\n",
    "        # 生成 lst 中剩余元素的长度为 m-1 的组合\n",
    "        rest_combs = combinations(lst[i+1:], m-1)\n",
    "        for comb in rest_combs:\n",
    "            # 将新的组合与 lst[i] 组合成长度为 m 的组合\n",
    "            result.append([lst[i]] + comb)\n",
    "    return result\n",
    "# 生成列表 [1, 2, 3] 中长度为 2 的所有组合\n",
    "lst = [1, 2, 3]\n",
    "combs = combinations(lst, 2)\n",
    "\n",
    "# 输出组合结果\n",
    "for comb in combs:\n",
    "    print(comb)\n",
    "\n"
   ]
  },
  {
   "cell_type": "code",
   "execution_count": null,
   "metadata": {},
   "outputs": [],
   "source": []
  }
 ],
 "metadata": {
  "kernelspec": {
   "display_name": ".venv",
   "language": "python",
   "name": "python3"
  },
  "language_info": {
   "codemirror_mode": {
    "name": "ipython",
    "version": 3
   },
   "file_extension": ".py",
   "mimetype": "text/x-python",
   "name": "python",
   "nbconvert_exporter": "python",
   "pygments_lexer": "ipython3",
   "version": "3.9.13"
  },
  "orig_nbformat": 4,
  "vscode": {
   "interpreter": {
    "hash": "138e5b2ebee627ae34735539720976c388ed7526224b9cdad4247cc3547d4b17"
   }
  }
 },
 "nbformat": 4,
 "nbformat_minor": 2
}
