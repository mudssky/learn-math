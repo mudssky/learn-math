{
 "cells": [
  {
   "attachments": {},
   "cell_type": "markdown",
   "metadata": {},
   "source": [
    "## 搜索算法\n",
    "线性搜索\n",
    "二分搜索"
   ]
  },
  {
   "cell_type": "code",
   "execution_count": 117,
   "metadata": {},
   "outputs": [],
   "source": [
    "def binary_search(arr, target):\n",
    "    low, high = 0, len(arr) - 1\n",
    "    while low <= high:\n",
    "        mid = (low + high) // 2\n",
    "        if arr[mid] == target:\n",
    "            return mid\n",
    "        elif arr[mid] < target:\n",
    "            low = mid + 1\n",
    "        else:\n",
    "            high = mid - 1\n",
    "    return -1\n",
    "\n",
    "import random\n",
    "\n",
    "def generate_sorted_array(n, start=1, end=10000):\n",
    "    \"\"\"生成 n 个升序排列的随机整数\"\"\"\n",
    "    arr = [random.randint(start, end) for _ in range(n)]\n",
    "    arr.sort()\n",
    "    return arr\n"
   ]
  },
  {
   "cell_type": "code",
   "execution_count": 118,
   "metadata": {},
   "outputs": [
    {
     "data": {
      "text/plain": [
       "[287,\n",
       " 337,\n",
       " 461,\n",
       " 632,\n",
       " 658,\n",
       " 971,\n",
       " 1001,\n",
       " 1090,\n",
       " 1094,\n",
       " 1104,\n",
       " 1117,\n",
       " 1201,\n",
       " 1258,\n",
       " 1423,\n",
       " 1437,\n",
       " 1460,\n",
       " 1698,\n",
       " 2084,\n",
       " 2096,\n",
       " 2217,\n",
       " 2417,\n",
       " 2465,\n",
       " 2555,\n",
       " 2707,\n",
       " 2859,\n",
       " 2918,\n",
       " 2945,\n",
       " 2967,\n",
       " 2968,\n",
       " 2979,\n",
       " 3197,\n",
       " 3556,\n",
       " 3562,\n",
       " 3610,\n",
       " 3623,\n",
       " 3649,\n",
       " 3846,\n",
       " 3895,\n",
       " 3904,\n",
       " 4065,\n",
       " 4139,\n",
       " 4140,\n",
       " 4165,\n",
       " 4191,\n",
       " 4302,\n",
       " 4359,\n",
       " 4500,\n",
       " 4529,\n",
       " 4555,\n",
       " 4565,\n",
       " 4577,\n",
       " 4657,\n",
       " 4952,\n",
       " 5051,\n",
       " 5140,\n",
       " 5153,\n",
       " 5278,\n",
       " 5468,\n",
       " 5689,\n",
       " 5773,\n",
       " 5855,\n",
       " 5885,\n",
       " 5901,\n",
       " 5943,\n",
       " 5971,\n",
       " 5992,\n",
       " 6226,\n",
       " 6335,\n",
       " 6431,\n",
       " 6565,\n",
       " 6622,\n",
       " 6737,\n",
       " 6792,\n",
       " 6844,\n",
       " 6929,\n",
       " 7014,\n",
       " 7115,\n",
       " 7153,\n",
       " 7319,\n",
       " 7337,\n",
       " 7553,\n",
       " 7817,\n",
       " 7955,\n",
       " 7971,\n",
       " 8126,\n",
       " 8203,\n",
       " 8254,\n",
       " 8287,\n",
       " 8419,\n",
       " 8452,\n",
       " 8473,\n",
       " 8691,\n",
       " 9002,\n",
       " 9006,\n",
       " 9041,\n",
       " 9266,\n",
       " 9276,\n",
       " 9537,\n",
       " 9668,\n",
       " 9917]"
      ]
     },
     "execution_count": 118,
     "metadata": {},
     "output_type": "execute_result"
    }
   ],
   "source": [
    "test_arr=generate_sorted_array(100)\n",
    "test_arr"
   ]
  },
  {
   "cell_type": "code",
   "execution_count": 119,
   "metadata": {},
   "outputs": [],
   "source": [
    "test_range=range(10,100,5)"
   ]
  },
  {
   "cell_type": "code",
   "execution_count": 120,
   "metadata": {},
   "outputs": [
    {
     "name": "stdout",
     "output_type": "stream",
     "text": [
      "8.76 µs ± 179 ns per loop (mean ± std. dev. of 7 runs, 100,000 loops each)\n"
     ]
    }
   ],
   "source": [
    "%%timeit \n",
    "for i in test_range:\n",
    "\tbinary_search(test_arr,test_arr[i])\n"
   ]
  },
  {
   "cell_type": "code",
   "execution_count": 121,
   "metadata": {},
   "outputs": [],
   "source": [
    "def binary_search2(arr, target):\n",
    "    low, high = 0, len(arr) - 1\n",
    "    while low <= high:\n",
    "        mid = (low + high) >> 1\n",
    "        if arr[mid] == target:\n",
    "            return mid\n",
    "        elif arr[mid] < target:\n",
    "            low = mid + 1\n",
    "        else:\n",
    "            high = mid - 1\n",
    "        \n",
    "\n",
    "    return -1"
   ]
  },
  {
   "cell_type": "code",
   "execution_count": 122,
   "metadata": {},
   "outputs": [
    {
     "name": "stdout",
     "output_type": "stream",
     "text": [
      "9.33 µs ± 169 ns per loop (mean ± std. dev. of 7 runs, 100,000 loops each)\n"
     ]
    }
   ],
   "source": [
    "%%timeit \n",
    "for i in test_range:\n",
    "\tbinary_search2(test_arr,test_arr[i])"
   ]
  },
  {
   "cell_type": "code",
   "execution_count": 123,
   "metadata": {},
   "outputs": [],
   "source": [
    "def binary_search3(arr, target):\n",
    "    low, high = 0, len(arr) - 1\n",
    "    while low <= high:\n",
    "        mid = low+ ((high-low)>>1)\n",
    "        if arr[mid] == target:\n",
    "            return mid\n",
    "        elif arr[mid] < target:\n",
    "            low = mid + 1\n",
    "        else:\n",
    "            high = mid - 1\n",
    "    return -1"
   ]
  },
  {
   "cell_type": "code",
   "execution_count": 124,
   "metadata": {},
   "outputs": [
    {
     "name": "stdout",
     "output_type": "stream",
     "text": [
      "10.2 µs ± 220 ns per loop (mean ± std. dev. of 7 runs, 100,000 loops each)\n"
     ]
    }
   ],
   "source": [
    "%%timeit \n",
    "for i in test_range:\n",
    "\tbinary_search3(test_arr,test_arr[i])"
   ]
  },
  {
   "cell_type": "code",
   "execution_count": 125,
   "metadata": {},
   "outputs": [
    {
     "name": "stdout",
     "output_type": "stream",
     "text": [
      "\u001b[1;31mInit signature:\u001b[0m \u001b[0mrange\u001b[0m\u001b[1;33m(\u001b[0m\u001b[0mself\u001b[0m\u001b[1;33m,\u001b[0m \u001b[1;33m/\u001b[0m\u001b[1;33m,\u001b[0m \u001b[1;33m*\u001b[0m\u001b[0margs\u001b[0m\u001b[1;33m,\u001b[0m \u001b[1;33m**\u001b[0m\u001b[0mkwargs\u001b[0m\u001b[1;33m)\u001b[0m\u001b[1;33m\u001b[0m\u001b[1;33m\u001b[0m\u001b[0m\n",
      "\u001b[1;31mDocstring:\u001b[0m     \n",
      "range(stop) -> range object\n",
      "range(start, stop[, step]) -> range object\n",
      "\n",
      "Return an object that produces a sequence of integers from start (inclusive)\n",
      "to stop (exclusive) by step.  range(i, j) produces i, i+1, i+2, ..., j-1.\n",
      "start defaults to 0, and stop is omitted!  range(4) produces 0, 1, 2, 3.\n",
      "These are exactly the valid indices for a list of 4 elements.\n",
      "When step is given, it specifies the increment (or decrement).\n",
      "\u001b[1;31mType:\u001b[0m           type\n",
      "\u001b[1;31mSubclasses:\u001b[0m     "
     ]
    }
   ],
   "source": [
    "?range"
   ]
  },
  {
   "cell_type": "code",
   "execution_count": null,
   "metadata": {},
   "outputs": [],
   "source": []
  }
 ],
 "metadata": {
  "kernelspec": {
   "display_name": ".venv",
   "language": "python",
   "name": "python3"
  },
  "language_info": {
   "codemirror_mode": {
    "name": "ipython",
    "version": 3
   },
   "file_extension": ".py",
   "mimetype": "text/x-python",
   "name": "python",
   "nbconvert_exporter": "python",
   "pygments_lexer": "ipython3",
   "version": "3.9.13"
  },
  "orig_nbformat": 4,
  "vscode": {
   "interpreter": {
    "hash": "138e5b2ebee627ae34735539720976c388ed7526224b9cdad4247cc3547d4b17"
   }
  }
 },
 "nbformat": 4,
 "nbformat_minor": 2
}
