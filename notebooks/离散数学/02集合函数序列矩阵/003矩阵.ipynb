{
 "cells": [
  {
   "cell_type": "code",
   "execution_count": 1,
   "metadata": {},
   "outputs": [],
   "source": [
    "import numpy as np"
   ]
  },
  {
   "cell_type": "code",
   "execution_count": 2,
   "metadata": {},
   "outputs": [
    {
     "data": {
      "text/plain": [
       "array([[ 4,  4, -2],\n",
       "       [ 3, -1, -3],\n",
       "       [ 2,  5,  2]])"
      ]
     },
     "execution_count": 2,
     "metadata": {},
     "output_type": "execute_result"
    }
   ],
   "source": [
    "a = np.array([[1, 0, -1],\n",
    "              [2, 2, -3],\n",
    "              [3, 4, 0]])\n",
    "b = np.array([[3, 4, -1],\n",
    "              [1, -3, 0],\n",
    "              [-1, 1, 2]])\n",
    "a+b\n"
   ]
  },
  {
   "cell_type": "code",
   "execution_count": 5,
   "metadata": {},
   "outputs": [
    {
     "name": "stdout",
     "output_type": "stream",
     "text": [
      "a:[[1 0 4]\n",
      " [2 1 1]\n",
      " [3 1 0]\n",
      " [0 2 2]]\n",
      "b:[[2 4]\n",
      " [1 1]\n",
      " [3 0]]\n"
     ]
    },
    {
     "data": {
      "text/plain": [
       "array([[14,  4],\n",
       "       [ 8,  9],\n",
       "       [ 7, 13],\n",
       "       [ 8,  2]])"
      ]
     },
     "execution_count": 5,
     "metadata": {},
     "output_type": "execute_result"
    }
   ],
   "source": [
    "# 矩阵乘法\n",
    "a = np.array([[1, 0, 4],\n",
    "              [2, 1, 1],\n",
    "              [3, 1, 0],\n",
    "              [0, 2, 2]\n",
    "              ])\n",
    "b = np.array([[2, 4],\n",
    "              [1, 1],\n",
    "              [3, 0],\n",
    "              ])\n",
    "print(f'a:{a}')\n",
    "print(f'b:{b}')\n",
    "a@b\n"
   ]
  },
  {
   "cell_type": "code",
   "execution_count": 6,
   "metadata": {},
   "outputs": [
    {
     "data": {
      "text/plain": [
       "array([[1, 2, 3, 0],\n",
       "       [0, 1, 1, 2],\n",
       "       [4, 1, 0, 2]])"
      ]
     },
     "execution_count": 6,
     "metadata": {},
     "output_type": "execute_result"
    }
   ],
   "source": [
    "# 矩阵转置\n",
    "a.T"
   ]
  },
  {
   "cell_type": "code",
   "execution_count": 9,
   "metadata": {},
   "outputs": [
    {
     "name": "stdout",
     "output_type": "stream",
     "text": [
      "square:[[1 1 0]\n",
      " [1 0 1]\n",
      " [0 1 0]]\n"
     ]
    },
    {
     "data": {
      "text/plain": [
       "array([[1, 1, 0],\n",
       "       [1, 0, 1],\n",
       "       [0, 1, 0]])"
      ]
     },
     "execution_count": 9,
     "metadata": {},
     "output_type": "execute_result"
    }
   ],
   "source": [
    "square = np.array([[1, 1, 0],\n",
    "                   [1, 0, 1],\n",
    "                   [0, 1, 0]])\n",
    "print(f'square:{square}')\n",
    "square.T\n"
   ]
  },
  {
   "cell_type": "code",
   "execution_count": 10,
   "metadata": {},
   "outputs": [
    {
     "name": "stdout",
     "output_type": "stream",
     "text": [
      "A=[[1 0 1]\n",
      " [0 1 0]]\n",
      "B=[[0 1 0]\n",
      " [1 1 0]]\n"
     ]
    },
    {
     "data": {
      "text/plain": [
       "array([[1, 1, 1],\n",
       "       [1, 1, 0]])"
      ]
     },
     "execution_count": 10,
     "metadata": {},
     "output_type": "execute_result"
    }
   ],
   "source": [
    "# 矩阵的交集和并集\n",
    "A = np.array([[1, 0, 1],\n",
    "              [0, 1, 0]])\n",
    "B = np.array([[0, 1, 0],\n",
    "              [1, 1, 0]])\n",
    "print(f'A={A}')\n",
    "print(f'B={B}')\n",
    "A | B\n"
   ]
  },
  {
   "cell_type": "code",
   "execution_count": 11,
   "metadata": {},
   "outputs": [
    {
     "data": {
      "text/plain": [
       "array([[0, 0, 0],\n",
       "       [0, 1, 0]])"
      ]
     },
     "execution_count": 11,
     "metadata": {},
     "output_type": "execute_result"
    }
   ],
   "source": [
    "A&B"
   ]
  },
  {
   "cell_type": "code",
   "execution_count": 71,
   "metadata": {},
   "outputs": [
    {
     "name": "stdout",
     "output_type": "stream",
     "text": [
      "A=[[1 0]\n",
      " [0 1]\n",
      " [1 0]]\n",
      "B=[[1 1 0]\n",
      " [0 1 1]]\n"
     ]
    },
    {
     "data": {
      "text/plain": [
       "array([[1, 1, 0],\n",
       "       [0, 1, 1],\n",
       "       [1, 1, 0]])"
      ]
     },
     "execution_count": 71,
     "metadata": {},
     "output_type": "execute_result"
    }
   ],
   "source": [
    "# 针对0-1矩阵的布尔乘积，也就是矩阵的乘积\n",
    "A = np.array([[1, 0],\n",
    "              [0, 1],\n",
    "              [1, 0]\n",
    "              ])\n",
    "B = np.array([[1, 1, 0],\n",
    "              [0, 1, 1],\n",
    "              ])\n",
    "print(f'A={A}')\n",
    "print(f'B={B}')\n",
    "A@B\n",
    "# np.dot(A,B)\n",
    "\n"
   ]
  },
  {
   "cell_type": "code",
   "execution_count": 73,
   "metadata": {},
   "outputs": [
    {
     "name": "stdout",
     "output_type": "stream",
     "text": [
      "A=[[0 0 1]\n",
      " [1 0 0]\n",
      " [1 1 0]]\n"
     ]
    },
    {
     "data": {
      "text/plain": [
       "array([[2, 1, 1],\n",
       "       [1, 1, 1],\n",
       "       [2, 1, 2]])"
      ]
     },
     "execution_count": 73,
     "metadata": {},
     "output_type": "execute_result"
    }
   ],
   "source": [
    "A = np.array([[0, 0, 1],\n",
    "              [1, 0, 0],\n",
    "              [1, 1, 0]\n",
    "              ])\n",
    "print(f'A={A}')\n",
    "\n",
    "# def bool_power(arr:np.ndarray,n:int):\n",
    "#     res=arr\n",
    "#     for i in range(n-1):\n",
    "#         res=np.dot(res,arr)\n",
    "#     return res\n",
    "# bool_power(A,5)\n",
    "# np.power(A,6)\n",
    "\n",
    "np.linalg.matrix_power(A,5)\n"
   ]
  }
 ],
 "metadata": {
  "kernelspec": {
   "display_name": ".venv",
   "language": "python",
   "name": "python3"
  },
  "language_info": {
   "codemirror_mode": {
    "name": "ipython",
    "version": 3
   },
   "file_extension": ".py",
   "mimetype": "text/x-python",
   "name": "python",
   "nbconvert_exporter": "python",
   "pygments_lexer": "ipython3",
   "version": "3.9.13"
  },
  "orig_nbformat": 4,
  "vscode": {
   "interpreter": {
    "hash": "138e5b2ebee627ae34735539720976c388ed7526224b9cdad4247cc3547d4b17"
   }
  }
 },
 "nbformat": 4,
 "nbformat_minor": 2
}
