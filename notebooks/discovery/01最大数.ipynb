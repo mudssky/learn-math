{
 "cells": [
  {
   "cell_type": "code",
   "execution_count": 15,
   "metadata": {
    "lines_to_next_cell": 2
   },
   "outputs": [],
   "source": [
    "# 添加python模块搜索路径\n",
    "# import sys\n",
    "# sys.path.append(\"../util/\")"
   ]
  },
  {
   "cell_type": "code",
   "execution_count": 20,
   "metadata": {},
   "outputs": [
    {
     "name": "stdout",
     "output_type": "stream",
     "text": [
      "num1:9\n",
      "num2:27\n",
      "num3:7625597484987\n"
     ]
    }
   ],
   "source": [
    "# 用3个3表示一个最大的数\n",
    "num1=3+3+3\n",
    "print(f'num1:{num1}')\n",
    "num2=3*3*3\n",
    "print(f'num2:{num2}')\n",
    "num3=3**3**3\n",
    "print(f'num3:{num3}')"
   ]
  },
  {
   "cell_type": "code",
   "execution_count": 26,
   "metadata": {},
   "outputs": [
    {
     "name": "stdout",
     "output_type": "stream",
     "text": [
      "7.63e+12\n"
     ]
    }
   ],
   "source": [
    "# 科学计数法\n",
    "print('{:.2e}'.format(num3))"
   ]
  },
  {
   "attachments": {},
   "cell_type": "markdown",
   "metadata": {},
   "source": [
    "严华经\n",
    "- 洛叉 10**5\n",
    "- 俱胝 10**7\n",
    "- 阿虞罗 10**14\n",
    "- 无量 `10**(2.8*10**32)`\n",
    "- 无边 `10**(1.1*10**33)`\n"
   ]
  },
  {
   "attachments": {},
   "cell_type": "markdown",
   "metadata": {},
   "source": [
    "高德纳箭头\n",
    "高德纳箭头是一种在数学、计算机科学和逻辑学等领域中经常使用的符号，用于表示递归定义中的自我引用。\n",
    "因此可以用于叠加幂运算"
   ]
  },
  {
   "attachments": {},
   "cell_type": "markdown",
   "metadata": {},
   "source": [
    "葛立恒数是在研究n维立方体的染色问题时得出的\n",
    "即n维立方体，所有点连线，在任意面上的线染上两种颜色，任意面不能出现同色组成完全图，随着n维数的增多，最终会出现一个n维立方体，无法实现这一点，\n",
    "这个n的上界被称为葛立恒数，是一个很大的数。\n",
    "据说用高德纳箭头要叠加64层"
   ]
  }
 ],
 "metadata": {
  "jupytext": {
   "formats": "ipynb,py:percent"
  },
  "kernelspec": {
   "display_name": ".venv",
   "language": "python",
   "name": "python3"
  },
  "language_info": {
   "codemirror_mode": {
    "name": "ipython",
    "version": 3
   },
   "file_extension": ".py",
   "mimetype": "text/x-python",
   "name": "python",
   "nbconvert_exporter": "python",
   "pygments_lexer": "ipython3",
   "version": "3.9.13"
  },
  "vscode": {
   "interpreter": {
    "hash": "138e5b2ebee627ae34735539720976c388ed7526224b9cdad4247cc3547d4b17"
   }
  }
 },
 "nbformat": 4,
 "nbformat_minor": 2
}
