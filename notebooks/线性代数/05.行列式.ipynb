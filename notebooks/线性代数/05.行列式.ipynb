{
 "cells": [
  {
   "cell_type": "code",
   "execution_count": 18,
   "metadata": {},
   "outputs": [],
   "source": [
    "import numpy as np"
   ]
  },
  {
   "cell_type": "code",
   "execution_count": 19,
   "metadata": {},
   "outputs": [
    {
     "data": {
      "text/plain": [
       "6.0"
      ]
     },
     "execution_count": 19,
     "metadata": {},
     "output_type": "execute_result"
    }
   ],
   "source": [
    "# 先算一个简单的6倍的行列式吧\n",
    "a=np.array([[2,0],\n",
    "            [0,3]])\n",
    "np.linalg.det(a)"
   ]
  },
  {
   "cell_type": "code",
   "execution_count": 20,
   "metadata": {},
   "outputs": [
    {
     "data": {
      "text/plain": [
       "-12.0"
      ]
     },
     "execution_count": 20,
     "metadata": {},
     "output_type": "execute_result"
    }
   ],
   "source": [
    "# 再算一个复杂一些的\n",
    "a=np.array([[2,0,1],\n",
    "            [0,3,2],\n",
    "            [2,3,1]])\n",
    "np.linalg.det(a)"
   ]
  },
  {
   "cell_type": "code",
   "execution_count": 21,
   "metadata": {},
   "outputs": [
    {
     "data": {
      "text/latex": [
       "$\\displaystyle a e i - a f h - b d i + b f g + c d h - c e g$"
      ],
      "text/plain": [
       "a*e*i - a*f*h - b*d*i + b*f*g + c*d*h - c*e*g"
      ]
     },
     "execution_count": 21,
     "metadata": {},
     "output_type": "execute_result"
    }
   ],
   "source": [
    "import sympy\n",
    "\n",
    "# 创建一个 3x3 的符号矩阵\n",
    "a, b, c, d, e, f, g, h, i = sympy.symbols('a b c d e f g h i')\n",
    "A = sympy.Matrix([[a, b, c], \n",
    "                  [d, e, f], \n",
    "                  [g, h, i]])\n",
    "\n",
    "# 计算矩阵的行列式\n",
    "A.det()"
   ]
  },
  {
   "cell_type": "code",
   "execution_count": 22,
   "metadata": {},
   "outputs": [
    {
     "data": {
      "text/latex": [
       "$\\displaystyle a d - b c$"
      ],
      "text/plain": [
       "a*d - b*c"
      ]
     },
     "execution_count": 22,
     "metadata": {},
     "output_type": "execute_result"
    }
   ],
   "source": [
    "b = sympy.Matrix([[a, b],\n",
    "                  [c, d]])\n",
    "b.det()\n"
   ]
  },
  {
   "cell_type": "code",
   "execution_count": 23,
   "metadata": {},
   "outputs": [
    {
     "name": "stdout",
     "output_type": "stream",
     "text": [
      "(1a0, 1a1, 1a2, 1a3)\n"
     ]
    }
   ],
   "source": [
    "a = sympy.symbols('1:a:4')\n",
    "\n",
    "print(a)"
   ]
  },
  {
   "cell_type": "code",
   "execution_count": 24,
   "metadata": {},
   "outputs": [
    {
     "data": {
      "text/latex": [
       "$\\displaystyle \\left[\\begin{matrix}{a}_{0} & {a}_{1} & {a}_{2}\\\\{a}_{3} & {a}_{4} & {a}_{5}\\\\{a}_{6} & {a}_{7} & {a}_{8}\\end{matrix}\\right]$"
      ],
      "text/plain": [
       "Matrix([\n",
       "[a[0], a[1], a[2]],\n",
       "[a[3], a[4], a[5]],\n",
       "[a[6], a[7], a[8]]])"
      ]
     },
     "execution_count": 24,
     "metadata": {},
     "output_type": "execute_result"
    }
   ],
   "source": [
    "import sympy\n",
    "\n",
    "# 定义矩阵的位置变量\n",
    "a = sympy.IndexedBase('a')\n",
    "i, j = sympy.Idx('i', 3), sympy.Idx('j', 3)\n",
    "\n",
    "# 定义矩阵\n",
    "A = sympy.Matrix(3, 3, lambda i, j: a[i*3+j])\n",
    "\n",
    "# 输出矩阵的表达式\n",
    "A\n"
   ]
  },
  {
   "cell_type": "code",
   "execution_count": 25,
   "metadata": {},
   "outputs": [
    {
     "data": {
      "text/latex": [
       "$\\displaystyle {a}_{1,2}$"
      ],
      "text/plain": [
       "a[1, 2]"
      ]
     },
     "execution_count": 25,
     "metadata": {},
     "output_type": "execute_result"
    }
   ],
   "source": [
    "a[1, 2]"
   ]
  }
 ],
 "metadata": {
  "jupytext": {
   "formats": "ipynb,py:percent"
  },
  "kernelspec": {
   "display_name": ".venv",
   "language": "python",
   "name": "python3"
  },
  "language_info": {
   "codemirror_mode": {
    "name": "ipython",
    "version": 3
   },
   "file_extension": ".py",
   "mimetype": "text/x-python",
   "name": "python",
   "nbconvert_exporter": "python",
   "pygments_lexer": "ipython3",
   "version": "3.9.13"
  }
 },
 "nbformat": 4,
 "nbformat_minor": 2
}
